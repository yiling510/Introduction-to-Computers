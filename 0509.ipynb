{
  "nbformat": 4,
  "nbformat_minor": 0,
  "metadata": {
    "colab": {
      "name": "0509.ipynb",
      "provenance": [],
      "authorship_tag": "ABX9TyORKikZFIwsVpzrg0T0rxz3",
      "include_colab_link": true
    },
    "kernelspec": {
      "name": "python3",
      "display_name": "Python 3"
    },
    "language_info": {
      "name": "python"
    }
  },
  "cells": [
    {
      "cell_type": "markdown",
      "metadata": {
        "id": "view-in-github",
        "colab_type": "text"
      },
      "source": [
        "<a href=\"https://colab.research.google.com/github/yiling510/Introduction-to-Computers/blob/main/0509.ipynb\" target=\"_parent\"><img src=\"https://colab.research.google.com/assets/colab-badge.svg\" alt=\"Open In Colab\"/></a>"
      ]
    },
    {
      "cell_type": "code",
      "execution_count": 10,
      "metadata": {
        "colab": {
          "base_uri": "https://localhost:8080/"
        },
        "id": "0GPU5kEC71WR",
        "outputId": "fd34be19-e4ba-410a-af11-d38436cddd58"
      },
      "outputs": [
        {
          "output_type": "stream",
          "name": "stdout",
          "text": [
            "請輸入你的體溫34\n",
            "體溫正常!\n"
          ]
        }
      ],
      "source": [
        "temp = float(input(\"請輸入你的體溫\"))\n",
        "if temp >= 37.5:\n",
        "  print(\"體溫過高!\")\n",
        "elif temp >=37 and temp < 37.4:\n",
        "  print(\"體溫略高!\")\n",
        "elif temp >=34 and temp <= 36.9:\n",
        "  print(\"體溫正常!\")\n",
        "else:\n",
        "  print(\"體溫異常，請重新量測!\")"
      ]
    },
    {
      "cell_type": "code",
      "source": [
        "score = (input(\"請輸入成績\"))\n",
        "if int(score) >= 90:\n",
        "  print(\"A\")\n",
        "elif int(score) >= 80:\n",
        "  print(\"B\")\n",
        "elif int(score) >= 70:\n",
        "  print(\"C\")\n",
        "elif int(score) >= 60:\n",
        "  print(\"D\")\n",
        "else:\n",
        "  print(\"E\")"
      ],
      "metadata": {
        "colab": {
          "base_uri": "https://localhost:8080/"
        },
        "id": "DBcAkXWI8t9m",
        "outputId": "d1fafb14-7f8d-45fc-f6ac-2cfc43757488"
      },
      "execution_count": 26,
      "outputs": [
        {
          "output_type": "stream",
          "name": "stdout",
          "text": [
            "請輸入成績50\n",
            "E\n"
          ]
        }
      ]
    },
    {
      "cell_type": "code",
      "source": [
        "money = int(input(\"請輸入購物金額\"))\n",
        "if (money >= 10000):\n",
        "  if(money >= 100000):\n",
        "    print(\"八折\" , money *0.8, end = \"元\\n\")\n",
        "  elif(money >= 50000):\n",
        "    print(\"八五折\" ,money *0.85, end = \"元\\n\" )\n",
        "  elif(money >= 30000):\n",
        "    print(\"九折\" ,money *0.9, end = \"元\\n\" )\n",
        "  else:\n",
        "    print(\"九五折\" ,money *0.95, end = \"元\\n\" )\n",
        "else:\n",
        "  print(\"沒打折\" , money ,end =\"元\\n\")"
      ],
      "metadata": {
        "colab": {
          "base_uri": "https://localhost:8080/"
        },
        "id": "c8dY_XIn_sqm",
        "outputId": "12a2c56c-e06c-4366-d311-d089d49ab596"
      },
      "execution_count": 32,
      "outputs": [
        {
          "output_type": "stream",
          "name": "stdout",
          "text": [
            "請輸入購物金額50000\n",
            "八五折 42500.0元\n"
          ]
        }
      ]
    },
    {
      "cell_type": "code",
      "source": [
        "season = int(input(\"請輸入月份\"))\n",
        "if (season >=1 and season <=12):\n",
        "  if int(season >= 3 and season < 6):\n",
        "    print(str(season)+\"月是春天!\")\n",
        "  elif int(season >= 6 and season < 9):\n",
        "    print(str(season)+\"月是夏天!\")\n",
        "  elif int(season >= 9 and season < 12):\n",
        "    print(str(season)+\"月是秋天!\")\n",
        "  elif int(season <= 12 or season >= 1):\n",
        "    print(str(season)+\"月是冬天!\")\n",
        "else:\n",
        "  print(\"月份不在範圍內!\")"
      ],
      "metadata": {
        "colab": {
          "base_uri": "https://localhost:8080/"
        },
        "id": "D5nvhI2WHWoo",
        "outputId": "e96f5843-bd82-4289-a580-fc6ec661f355"
      },
      "execution_count": 78,
      "outputs": [
        {
          "output_type": "stream",
          "name": "stdout",
          "text": [
            "請輸入月份12\n",
            "12月是冬天!\n"
          ]
        }
      ]
    },
    {
      "cell_type": "code",
      "source": [
        "tax = int(input(\"請輸入今年收入淨額:\"))\n",
        "if (tax >= 300000):\n",
        "  if(tax >= 2000000):\n",
        "    print(\"付稅金額:\" , tax *0.3, end = \"元\\n\")\n",
        "  elif(tax >= 1000000):\n",
        "    print(\"付稅金額:\" ,tax *0.21, end = \"元\\n\" )\n",
        "  elif(tax >= 600000):\n",
        "    print(\"付稅金額:\" ,tax *0.13, end = \"元\\n\" )\n",
        "  else:\n",
        "    print(\"付稅金額:\" ,tax *0.06, end = \"元\\n\" )\n",
        "else:\n",
        "  print(\"0\" ,end =\"元\\n\")"
      ],
      "metadata": {
        "colab": {
          "base_uri": "https://localhost:8080/"
        },
        "id": "LbFhH5i-Mb8m",
        "outputId": "521e5893-883a-4145-ff08-c39bc697cbd6"
      },
      "execution_count": 88,
      "outputs": [
        {
          "output_type": "stream",
          "name": "stdout",
          "text": [
            "請輸入今年收入淨額:2000000\n",
            "付稅金額: 600000.0元\n"
          ]
        }
      ]
    }
  ]
}